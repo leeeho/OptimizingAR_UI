{
  "nbformat": 4,
  "nbformat_minor": 0,
  "metadata": {
    "colab": {
      "provenance": []
    },
    "kernelspec": {
      "name": "python3",
      "display_name": "Python 3"
    },
    "language_info": {
      "name": "python"
    }
  },
  "cells": [
    {
      "cell_type": "code",
      "execution_count": 1,
      "metadata": {
        "id": "f_ruxysKLkZi"
      },
      "outputs": [],
      "source": [
        "import pandas as pd\n",
        "import numpy as np\n",
        "import matplotlib.pyplot as plt\n",
        "from mpl_toolkits.mplot3d import Axes3D\n",
        "import seaborn as sns\n",
        "import os"
      ]
    },
    {
      "cell_type": "code",
      "source": [
        "def calculate_and_plot_average_for_participant(participant, button_sizes, output_dir, num_trials=3, threshold_distance=0.04):\n",
        "    # Dictionary to store the average error rates for each button size\n",
        "    error_rates = {}\n",
        "\n",
        "    sns.set(style=\"darkgrid\")\n",
        "\n",
        "    # Define a list of colors for plotting different trials\n",
        "    colors = ['b', 'g', 'r', 'c', 'm', 'y', 'k']\n",
        "\n",
        "    # Create a figure with a grid layout depending on the number of button sizes\n",
        "    grid_rows, grid_cols = 2, int(np.ceil(len(button_sizes) / 2))\n",
        "    fig = plt.figure(figsize=(grid_cols * 6, grid_rows * 6))\n",
        "    fig.suptitle(f'Participant {participant}', fontsize=32)\n",
        "\n",
        "    for idx, button_size in enumerate(button_sizes):\n",
        "        aggregated_df = pd.DataFrame()\n",
        "        trial_errors = []\n",
        "\n",
        "        ax = fig.add_subplot(grid_rows, grid_cols, idx + 1, projection='3d')\n",
        "\n",
        "        for trial in range(1, num_trials + 1):\n",
        "            csv_path = os.path.join(output_dir, f'P{participant}_T{trial}_{button_size}.csv')\n",
        "            df = pd.read_csv(csv_path)\n",
        "            aggregated_df = aggregated_df.append(df)\n",
        "\n",
        "            # Reference point - the last point in the dataset\n",
        "            ref_point = df.iloc[-1]\n",
        "\n",
        "            # Filter points based on the threshold distance (Finding points that signal pressing attempts)\n",
        "            distances = np.sqrt((df['PositionX'] - ref_point['PositionX'])**2 +\n",
        "                                (df['PositionY'] - ref_point['PositionY'])**2 +\n",
        "                                (df['PositionZ'] - ref_point['PositionZ'])**2)\n",
        "            filtered_points = df[distances < threshold_distance]\n",
        "\n",
        "            # Store the average error distance for this trial\n",
        "            trial_errors.append(distances[distances < threshold_distance].mean())\n",
        "\n",
        "            # Plot this trial's filtered data\n",
        "            color = colors[trial % len(colors)]  # Cycle through colors\n",
        "            ax.scatter(filtered_points['PositionX'], filtered_points['PositionY'], filtered_points['PositionZ'], c=color, marker='o', label=f'Trial {trial}')\n",
        "\n",
        "            # Plot the reference point with a distinct marker and size\n",
        "            ax.scatter(ref_point['PositionX'], ref_point['PositionY'], ref_point['PositionZ'], c='black', marker='x', s=100, label=f'Ref Point Trial {trial}' if trial == 1 else '')\n",
        "\n",
        "        # Calculate the average error rate across all trials for this button size\n",
        "        average_error = np.mean(trial_errors)\n",
        "        error_rates[button_size] = average_error\n",
        "\n",
        "        # Set plot labels and title\n",
        "        ax.set_xlabel('X')\n",
        "        ax.set_ylabel('Y')\n",
        "        ax.set_zlabel('Z')\n",
        "        ax.set_title(f'Button Size: {button_size}mm')\n",
        "        ax.text2D(0.05, 0.95, f'Avg Error: {average_error:.2f}', transform=ax.transAxes)\n",
        "        ax.legend()\n",
        "\n",
        "    # Adjust layout for padding between subplots\n",
        "    plt.tight_layout(pad=3.0)\n",
        "\n",
        "    # Save the entire figure containing all subplots\n",
        "    plt.savefig(os.path.join(output_dir, f'P{participant}_average_plot.png'))\n",
        "    plt.close()\n",
        "\n",
        "    # Save the error rates to a CSV file\n",
        "    error_rates_df = pd.DataFrame(list(error_rates.items()), columns=['ButtonSize', 'AverageErrorRate'])\n",
        "    error_rates_df.to_csv(os.path.join(output_dir, f'P{participant}_average_errors.csv'), index=False)\n",
        "\n",
        "    return error_rates_df\n",
        "\n",
        "# Example usage for a participant\n",
        "button_sizes = ['15', '25', '35', '45', '55']\n",
        "output_directory = '/content'\n",
        "for subject in range(1, 11):\n",
        "    error_rates_df = calculate_and_plot_average_for_participant(subject, button_sizes, output_directory)"
      ],
      "metadata": {
        "id": "ZCYN-NAvLnWw"
      },
      "execution_count": null,
      "outputs": []
    },
    {
      "cell_type": "code",
      "source": [
        "def compile_error_rates(output_dir, num_participants, button_sizes):\n",
        "    compiled_data = pd.DataFrame(index=range(1, num_participants + 1))\n",
        "\n",
        "    for participant in range(1, num_participants + 1):\n",
        "        file_path = os.path.join(output_dir, f'P{participant}_average_errors.csv')\n",
        "\n",
        "        if os.path.exists(file_path):\n",
        "            # Read the participant's error rates\n",
        "            participant_data = pd.read_csv(file_path)\n",
        "\n",
        "            # Set the participant's row in the compiled DataFrame\n",
        "            for idx, row in participant_data.iterrows():\n",
        "                button_size = row['ButtonSize']\n",
        "                average_error = row['AverageErrorRate']\n",
        "                compiled_data.at[participant, button_size] = average_error\n",
        "\n",
        "    # Save the compiled data to a new CSV file\n",
        "    compiled_file_path = os.path.join(output_dir, 'compiled_average_errors.csv')\n",
        "    compiled_data.to_csv(compiled_file_path, index_label='Participant')\n",
        "\n",
        "    return compiled_file_path\n",
        "\n",
        "output_directory = '/content'\n",
        "num_participants = 10\n",
        "button_sizes = ['15', '25', '35', '45', '55']\n",
        "compiled_file_path = compile_error_rates(output_directory, num_participants, button_sizes)\n",
        "\n",
        "print(f\"Compiled file created at: {compiled_file_path}\")"
      ],
      "metadata": {
        "colab": {
          "base_uri": "https://localhost:8080/"
        },
        "id": "b2h6ibJBLxG8",
        "outputId": "8ee0adaa-265f-4d74-b5a2-7321eb6f9a76"
      },
      "execution_count": 4,
      "outputs": [
        {
          "output_type": "stream",
          "name": "stdout",
          "text": [
            "Compiled file created at: /content/compiled_average_errors.csv\n"
          ]
        }
      ]
    },
    {
      "cell_type": "code",
      "source": [],
      "metadata": {
        "id": "jb2QJNEGMYtn"
      },
      "execution_count": null,
      "outputs": []
    }
  ]
}